{
 "cells": [
  {
   "cell_type": "markdown",
   "metadata": {},
   "source": [
    "# Q1"
   ]
  },
  {
   "cell_type": "code",
   "execution_count": 5,
   "metadata": {},
   "outputs": [
    {
     "name": "stdout",
     "output_type": "stream",
     "text": [
      "ENTER 'x' FOR EXIT.\n",
      "ENTER MARKS OBTAINED IN 5 SUBJECTS: \n",
      "\n",
      "ENTER YOUR SCIENCE MARKS  98\n",
      "ENTER YOUR COMPUTER MARKS  90\n",
      "ENTER YOUR MATHS MARKS  89\n",
      "ENTER YOUR URDU MARKS  78\n",
      "ENTER YOUR ENGLISH MARKS  90\n",
      "Your Grade is A\n"
     ]
    }
   ],
   "source": [
    "# Python Program - Calculate Grade of Student\n",
    "\n",
    "print(\"ENTER 'x' FOR EXIT.\");\n",
    "print(\"ENTER MARKS OBTAINED IN 5 SUBJECTS: \");\n",
    "mark1 = input();\n",
    "if mark1 == 'x':\n",
    "    exit();\n",
    "else:\n",
    "    mark1 = int(input(\"ENTER YOUR SCIENCE MARKS  \"));\n",
    "    mark2 = int(input(\"ENTER YOUR COMPUTER MARKS  \"));\n",
    "    mark3 = int(input(\"ENTER YOUR MATHS MARKS  \"));\n",
    "    mark4 = int(input(\"ENTER YOUR URDU MARKS  \"));\n",
    "    mark5 = int(input(\"ENTER YOUR ENGLISH MARKS  \"));\n",
    "    sum = mark1 + mark2 + mark3 + mark4 + mark5;\n",
    "    average = sum/5;\n",
    "    if(average>=91 and average<=100):\n",
    "    \tprint(\"Your Grade is A+\");\n",
    "    elif(average>=81 and average<=90):\n",
    "    \tprint(\"Your Grade is A\");\n",
    "    elif(average>=71 and average<=80):\n",
    "    \tprint(\"Your Grade is B+\");\n",
    "    elif(average>=61 and average<=70):\n",
    "    \tprint(\"Your Grade is B\");\n",
    "    elif(average>=51 and average<=60):\n",
    "    \tprint(\"Your Grade is C+\");\n",
    "    elif(average>=41 and average<=50):\n",
    "    \tprint(\"Your Grade is C\");\n",
    "    elif(average>=0 and average<=40):\n",
    "    \tprint(\"Your Grade is F\");\n",
    "    else:\n",
    "    \tprint(\"Strange Grade..!!\");"
   ]
  },
  {
   "cell_type": "markdown",
   "metadata": {},
   "source": [
    "# Q2"
   ]
  },
  {
   "cell_type": "code",
   "execution_count": 29,
   "metadata": {},
   "outputs": [
    {
     "name": "stdout",
     "output_type": "stream",
     "text": [
      "Enter a number: 66\n",
      "66 is Even\n"
     ]
    }
   ],
   "source": [
    "num = int(input(\"Enter a number: \"))\n",
    "if (num % 2) == 0:\n",
    "    print(\"{0} is Even\".format(num))\n",
    "else:\n",
    "    print(\"{0} is Odd\".format(num))\n"
   ]
  },
  {
   "cell_type": "markdown",
   "metadata": {},
   "source": [
    "# Q3"
   ]
  },
  {
   "cell_type": "code",
   "execution_count": 1,
   "metadata": {},
   "outputs": [
    {
     "name": "stdout",
     "output_type": "stream",
     "text": [
      "THE LIST IS  : [1, 1, 2, 3, 5, 8, 13, 21, 34, 55, 89]\n",
      "LENGTH OF THE LIST IS : 11\n"
     ]
    }
   ],
   "source": [
    "a = [1, 1, 2, 3, 5, 8, 13, 21, 34, 55, 89]\n",
    "\n",
    "print (\"THE LIST IS  : \" + str(a)) \n",
    "   \n",
    "counter = 0\n",
    "for i in a: \n",
    "      \n",
    "   \n",
    "    counter = counter + 1\n",
    "    \n",
    "print (\"LENGTH OF THE LIST IS : \" + str(counter)) "
   ]
  },
  {
   "cell_type": "markdown",
   "metadata": {},
   "source": [
    "# Q4"
   ]
  },
  {
   "cell_type": "code",
   "execution_count": 7,
   "metadata": {},
   "outputs": [
    {
     "name": "stdout",
     "output_type": "stream",
     "text": [
      "HOW MANY NUMBERS : 5\n",
      "ENTER NUMBERS  5\n",
      "ENTER NUMBERS  5\n",
      "ENTER NUMBERS  5\n",
      "ENTER NUMBERS  5\n",
      "ENTER NUMBERS  5\n",
      "SUM OF NUMERIC ITEMS IN LIST IS : 25\n"
     ]
    }
   ],
   "source": [
    "lst = []\n",
    "num = int(input('HOW MANY NUMBERS : '))\n",
    "for n in range(num):\n",
    "    numbers = int(input('ENTER NUMBERS  '))\n",
    "    lst.append(numbers)\n",
    "print(\"SUM OF NUMERIC ITEMS IN LIST IS :\", sum(lst))\n"
   ]
  },
  {
   "cell_type": "markdown",
   "metadata": {},
   "source": [
    "# Q5 "
   ]
  },
  {
   "cell_type": "code",
   "execution_count": 8,
   "metadata": {},
   "outputs": [
    {
     "name": "stdout",
     "output_type": "stream",
     "text": [
      "ENTER NUMBER OF ELEMENTS IN LIST: 5\n",
      "ENTER ELEMENTS: 12\n",
      "ENTER ELEMENTS: 43\n",
      "ENTER ELEMENTS: 56\n",
      "ENTER ELEMENTS: 87\n",
      "ENTER ELEMENTS: 99\n",
      "LARGEST ELEMENT IS : 99\n"
     ]
    }
   ],
   "source": [
    "list1 = [] \n",
    "num = int(input(\"ENTER NUMBER OF ELEMENTS IN LIST: \")) \n",
    "   \n",
    "for i in range(1, num + 1): \n",
    "    ele = int(input(\"ENTER ELEMENTS: \")) \n",
    "    list1.append(ele) \n",
    "\n",
    "print(\"LARGEST ELEMENT IS :\", max(list1)) "
   ]
  },
  {
   "cell_type": "code",
   "execution_count": 10,
   "metadata": {},
   "outputs": [
    {
     "name": "stdout",
     "output_type": "stream",
     "text": [
      "LARGEST ELEMENT IS: 89\n"
     ]
    }
   ],
   "source": [
    "a = [1, 1, 2, 3, 5, 8, 13, 21, 34, 55, 89]\n",
    "\n",
    "print(\"LARGEST ELEMENT IS:\", max(a)) "
   ]
  },
  {
   "cell_type": "markdown",
   "metadata": {},
   "source": [
    "# Q6"
   ]
  },
  {
   "cell_type": "code",
   "execution_count": 28,
   "metadata": {},
   "outputs": [
    {
     "name": "stdout",
     "output_type": "stream",
     "text": [
      "1\n",
      "1\n",
      "2\n",
      "3\n"
     ]
    }
   ],
   "source": [
    "a = [1, 1, 2, 3, 5, 8, 13, 21, 34, 55, 89]\n",
    "\n",
    "\n",
    "for i in range(len(a)):\n",
    "    if a[i]<5:\n",
    "        print(a[i])"
   ]
  },
  {
   "cell_type": "code",
   "execution_count": null,
   "metadata": {},
   "outputs": [],
   "source": []
  }
 ],
 "metadata": {
  "kernelspec": {
   "display_name": "Python 3",
   "language": "python",
   "name": "python3"
  },
  "language_info": {
   "codemirror_mode": {
    "name": "ipython",
    "version": 3
   },
   "file_extension": ".py",
   "mimetype": "text/x-python",
   "name": "python",
   "nbconvert_exporter": "python",
   "pygments_lexer": "ipython3",
   "version": "3.7.3"
  }
 },
 "nbformat": 4,
 "nbformat_minor": 2
}
